{
 "cells": [
  {
   "cell_type": "code",
   "execution_count": 1,
   "metadata": {},
   "outputs": [
    {
     "name": "stdout",
     "output_type": "stream",
     "text": [
      "Requirement already satisfied: numpy in c:\\users\\mjmox\\anaconda3\\envs\\formulae\\lib\\site-packages (1.26.4)\n",
      "Note: you may need to restart the kernel to use updated packages.\n",
      "Requirement already satisfied: pandas in c:\\users\\mjmox\\anaconda3\\envs\\formulae\\lib\\site-packages (2.2.2)\n",
      "Requirement already satisfied: numpy>=1.26.0 in c:\\users\\mjmox\\anaconda3\\envs\\formulae\\lib\\site-packages (from pandas) (1.26.4)\n",
      "Requirement already satisfied: python-dateutil>=2.8.2 in c:\\users\\mjmox\\anaconda3\\envs\\formulae\\lib\\site-packages (from pandas) (2.9.0.post0)\n",
      "Requirement already satisfied: pytz>=2020.1 in c:\\users\\mjmox\\anaconda3\\envs\\formulae\\lib\\site-packages (from pandas) (2024.1)\n",
      "Requirement already satisfied: tzdata>=2022.7 in c:\\users\\mjmox\\anaconda3\\envs\\formulae\\lib\\site-packages (from pandas) (2023.3)\n",
      "Requirement already satisfied: six>=1.5 in c:\\users\\mjmox\\anaconda3\\envs\\formulae\\lib\\site-packages (from python-dateutil>=2.8.2->pandas) (1.16.0)\n",
      "Note: you may need to restart the kernel to use updated packages.\n"
     ]
    }
   ],
   "source": [
    "%pip install numpy\n",
    "%pip install pandas"
   ]
  },
  {
   "cell_type": "markdown",
   "metadata": {},
   "source": [
    "TABLE OF CONTENTS:\n",
    "\n",
    "1) Prep Data for Emrax 188 Motors\n",
    "\n",
    "2) Prep Data for AMK Motors\n",
    "\n",
    "3) Prep Battery Data\n",
    "\n",
    "Plot 1: Torque vs Irms\n",
    "\n",
    "Purpose: To determine the flux linkage of the permanent magnet in the motor"
   ]
  },
  {
   "cell_type": "code",
   "execution_count": 2,
   "metadata": {},
   "outputs": [
    {
     "name": "stdout",
     "output_type": "stream",
     "text": [
      "0.02693333333333333\n"
     ]
    }
   ],
   "source": [
    "import numpy as np\n",
    "\n",
    "pairs = [(50, 30), (100, 53), (150,75), (200, 90)]\n",
    "\n",
    "TI_array = np.array(pairs)\n",
    "\n",
    "# Now fit a slope to this line\n",
    "# Matrix for linear regression\n",
    "G = np.array([np.ones(len(TI_array[:,0])), TI_array[:,0]])\n",
    "\n",
    "G = np.transpose(G)\n",
    "\n",
    "# y-values for linear regression\n",
    "y = TI_array[:,1]\n",
    "\n",
    "# Model output\n",
    "coeffs = np.linalg.lstsq(G, y, rcond=None)[0]\n",
    "\n",
    "# Determine PM flux linkage\n",
    "pm = coeffs[1] / (3/2*10)\n",
    "print(pm)"
   ]
  },
  {
   "cell_type": "markdown",
   "metadata": {},
   "source": [
    "Plot 2: Motor Torque vs Speed\n",
    "\n",
    "Version 1 - Peak Torque\n",
    "\n",
    "Version 2 - Continuous Torque"
   ]
  },
  {
   "cell_type": "code",
   "execution_count": 3,
   "metadata": {},
   "outputs": [
    {
     "name": "stdout",
     "output_type": "stream",
     "text": [
      "[[   0.           90.        ]\n",
      " [  10.1010101    90.        ]\n",
      " [  20.2020202    90.        ]\n",
      " ...\n",
      " [6979.7979798    80.1010101 ]\n",
      " [6989.8989899    80.05050505]\n",
      " [7000.           80.        ]]\n"
     ]
    }
   ],
   "source": [
    "pairs_peak = [(0, 90), (1000, 90), (2000, 90), (3000, 90), (4000, 87), (5000, 85), (6000, 85), (7000, 80)]\n",
    "pairs_cont = [(0, 45), (1000, 47), (2000, 52), (3000, 52), (4000, 52), (5000, 52), (6000, 50), (7000, 45)]\n",
    "\n",
    "peak_arr = np.array(pairs_peak)\n",
    "cont_arr = np.array(pairs_cont)\n",
    "\n",
    "# initialize empty arrays - Fill each space with 100 points\n",
    "peak = np.empty([0, 2])\n",
    "cont = np.empty([0, 2])\n",
    "\n",
    "# number of intermediate values\n",
    "intermediateVals = 100\n",
    "\n",
    "# Then fill the spaces in between using interpolation:\n",
    "for i in range(0, len(pairs_peak) - 1):\n",
    "    new_peak = np.linspace(peak_arr[i],peak_arr[i+1], intermediateVals)\n",
    "    new_cont = np.linspace(cont_arr[i], cont_arr[i+1], intermediateVals)\n",
    "    peak = np.append(peak, new_peak, axis=0)\n",
    "    cont = np.append(cont, new_cont, axis=0)\n",
    "\n",
    "# Now print the full outputs - thinking at the moment this may be a problem because the arrays have two columns\n",
    "print(peak)\n",
    "\n",
    "# The outputs are of the following form: [rpm, torque]"
   ]
  },
  {
   "cell_type": "markdown",
   "metadata": {},
   "source": [
    "Plot 3: Efficiency Curve\n",
    "\n",
    "Process: converted online using https://plotdigitizer.com/app\n",
    "\n",
    "Determined efficiencies and sent to a .csv file\n",
    "\n",
    "Now: Unpack .csv and create lookup table for efficiencies"
   ]
  },
  {
   "cell_type": "code",
   "execution_count": 4,
   "metadata": {},
   "outputs": [
    {
     "ename": "FileNotFoundError",
     "evalue": "[Errno 2] No such file or directory: 'emrax_efficiency_data.csv'",
     "output_type": "error",
     "traceback": [
      "\u001b[1;31m---------------------------------------------------------------------------\u001b[0m",
      "\u001b[1;31mFileNotFoundError\u001b[0m                         Traceback (most recent call last)",
      "Cell \u001b[1;32mIn[4], line 4\u001b[0m\n\u001b[0;32m      1\u001b[0m \u001b[38;5;28;01mimport\u001b[39;00m \u001b[38;5;21;01mpandas\u001b[39;00m \u001b[38;5;28;01mas\u001b[39;00m \u001b[38;5;21;01mpd\u001b[39;00m\n\u001b[0;32m      3\u001b[0m infile \u001b[38;5;241m=\u001b[39m \u001b[38;5;124m\"\u001b[39m\u001b[38;5;124memrax_efficiency_data.csv\u001b[39m\u001b[38;5;124m\"\u001b[39m\n\u001b[1;32m----> 4\u001b[0m eff_df \u001b[38;5;241m=\u001b[39m \u001b[43mpd\u001b[49m\u001b[38;5;241;43m.\u001b[39;49m\u001b[43mread_csv\u001b[49m\u001b[43m(\u001b[49m\u001b[43minfile\u001b[49m\u001b[43m)\u001b[49m\n\u001b[0;32m      5\u001b[0m \u001b[38;5;28mprint\u001b[39m(eff_df)\n\u001b[0;32m      7\u001b[0m \u001b[38;5;66;03m# Functions as lookup table\u001b[39;00m\n",
      "File \u001b[1;32mc:\\Users\\mjmox\\anaconda3\\envs\\FormulaE\\Lib\\site-packages\\pandas\\io\\parsers\\readers.py:1026\u001b[0m, in \u001b[0;36mread_csv\u001b[1;34m(filepath_or_buffer, sep, delimiter, header, names, index_col, usecols, dtype, engine, converters, true_values, false_values, skipinitialspace, skiprows, skipfooter, nrows, na_values, keep_default_na, na_filter, verbose, skip_blank_lines, parse_dates, infer_datetime_format, keep_date_col, date_parser, date_format, dayfirst, cache_dates, iterator, chunksize, compression, thousands, decimal, lineterminator, quotechar, quoting, doublequote, escapechar, comment, encoding, encoding_errors, dialect, on_bad_lines, delim_whitespace, low_memory, memory_map, float_precision, storage_options, dtype_backend)\u001b[0m\n\u001b[0;32m   1013\u001b[0m kwds_defaults \u001b[38;5;241m=\u001b[39m _refine_defaults_read(\n\u001b[0;32m   1014\u001b[0m     dialect,\n\u001b[0;32m   1015\u001b[0m     delimiter,\n\u001b[1;32m   (...)\u001b[0m\n\u001b[0;32m   1022\u001b[0m     dtype_backend\u001b[38;5;241m=\u001b[39mdtype_backend,\n\u001b[0;32m   1023\u001b[0m )\n\u001b[0;32m   1024\u001b[0m kwds\u001b[38;5;241m.\u001b[39mupdate(kwds_defaults)\n\u001b[1;32m-> 1026\u001b[0m \u001b[38;5;28;01mreturn\u001b[39;00m \u001b[43m_read\u001b[49m\u001b[43m(\u001b[49m\u001b[43mfilepath_or_buffer\u001b[49m\u001b[43m,\u001b[49m\u001b[43m \u001b[49m\u001b[43mkwds\u001b[49m\u001b[43m)\u001b[49m\n",
      "File \u001b[1;32mc:\\Users\\mjmox\\anaconda3\\envs\\FormulaE\\Lib\\site-packages\\pandas\\io\\parsers\\readers.py:620\u001b[0m, in \u001b[0;36m_read\u001b[1;34m(filepath_or_buffer, kwds)\u001b[0m\n\u001b[0;32m    617\u001b[0m _validate_names(kwds\u001b[38;5;241m.\u001b[39mget(\u001b[38;5;124m\"\u001b[39m\u001b[38;5;124mnames\u001b[39m\u001b[38;5;124m\"\u001b[39m, \u001b[38;5;28;01mNone\u001b[39;00m))\n\u001b[0;32m    619\u001b[0m \u001b[38;5;66;03m# Create the parser.\u001b[39;00m\n\u001b[1;32m--> 620\u001b[0m parser \u001b[38;5;241m=\u001b[39m \u001b[43mTextFileReader\u001b[49m\u001b[43m(\u001b[49m\u001b[43mfilepath_or_buffer\u001b[49m\u001b[43m,\u001b[49m\u001b[43m \u001b[49m\u001b[38;5;241;43m*\u001b[39;49m\u001b[38;5;241;43m*\u001b[39;49m\u001b[43mkwds\u001b[49m\u001b[43m)\u001b[49m\n\u001b[0;32m    622\u001b[0m \u001b[38;5;28;01mif\u001b[39;00m chunksize \u001b[38;5;129;01mor\u001b[39;00m iterator:\n\u001b[0;32m    623\u001b[0m     \u001b[38;5;28;01mreturn\u001b[39;00m parser\n",
      "File \u001b[1;32mc:\\Users\\mjmox\\anaconda3\\envs\\FormulaE\\Lib\\site-packages\\pandas\\io\\parsers\\readers.py:1620\u001b[0m, in \u001b[0;36mTextFileReader.__init__\u001b[1;34m(self, f, engine, **kwds)\u001b[0m\n\u001b[0;32m   1617\u001b[0m     \u001b[38;5;28mself\u001b[39m\u001b[38;5;241m.\u001b[39moptions[\u001b[38;5;124m\"\u001b[39m\u001b[38;5;124mhas_index_names\u001b[39m\u001b[38;5;124m\"\u001b[39m] \u001b[38;5;241m=\u001b[39m kwds[\u001b[38;5;124m\"\u001b[39m\u001b[38;5;124mhas_index_names\u001b[39m\u001b[38;5;124m\"\u001b[39m]\n\u001b[0;32m   1619\u001b[0m \u001b[38;5;28mself\u001b[39m\u001b[38;5;241m.\u001b[39mhandles: IOHandles \u001b[38;5;241m|\u001b[39m \u001b[38;5;28;01mNone\u001b[39;00m \u001b[38;5;241m=\u001b[39m \u001b[38;5;28;01mNone\u001b[39;00m\n\u001b[1;32m-> 1620\u001b[0m \u001b[38;5;28mself\u001b[39m\u001b[38;5;241m.\u001b[39m_engine \u001b[38;5;241m=\u001b[39m \u001b[38;5;28;43mself\u001b[39;49m\u001b[38;5;241;43m.\u001b[39;49m\u001b[43m_make_engine\u001b[49m\u001b[43m(\u001b[49m\u001b[43mf\u001b[49m\u001b[43m,\u001b[49m\u001b[43m \u001b[49m\u001b[38;5;28;43mself\u001b[39;49m\u001b[38;5;241;43m.\u001b[39;49m\u001b[43mengine\u001b[49m\u001b[43m)\u001b[49m\n",
      "File \u001b[1;32mc:\\Users\\mjmox\\anaconda3\\envs\\FormulaE\\Lib\\site-packages\\pandas\\io\\parsers\\readers.py:1880\u001b[0m, in \u001b[0;36mTextFileReader._make_engine\u001b[1;34m(self, f, engine)\u001b[0m\n\u001b[0;32m   1878\u001b[0m     \u001b[38;5;28;01mif\u001b[39;00m \u001b[38;5;124m\"\u001b[39m\u001b[38;5;124mb\u001b[39m\u001b[38;5;124m\"\u001b[39m \u001b[38;5;129;01mnot\u001b[39;00m \u001b[38;5;129;01min\u001b[39;00m mode:\n\u001b[0;32m   1879\u001b[0m         mode \u001b[38;5;241m+\u001b[39m\u001b[38;5;241m=\u001b[39m \u001b[38;5;124m\"\u001b[39m\u001b[38;5;124mb\u001b[39m\u001b[38;5;124m\"\u001b[39m\n\u001b[1;32m-> 1880\u001b[0m \u001b[38;5;28mself\u001b[39m\u001b[38;5;241m.\u001b[39mhandles \u001b[38;5;241m=\u001b[39m \u001b[43mget_handle\u001b[49m\u001b[43m(\u001b[49m\n\u001b[0;32m   1881\u001b[0m \u001b[43m    \u001b[49m\u001b[43mf\u001b[49m\u001b[43m,\u001b[49m\n\u001b[0;32m   1882\u001b[0m \u001b[43m    \u001b[49m\u001b[43mmode\u001b[49m\u001b[43m,\u001b[49m\n\u001b[0;32m   1883\u001b[0m \u001b[43m    \u001b[49m\u001b[43mencoding\u001b[49m\u001b[38;5;241;43m=\u001b[39;49m\u001b[38;5;28;43mself\u001b[39;49m\u001b[38;5;241;43m.\u001b[39;49m\u001b[43moptions\u001b[49m\u001b[38;5;241;43m.\u001b[39;49m\u001b[43mget\u001b[49m\u001b[43m(\u001b[49m\u001b[38;5;124;43m\"\u001b[39;49m\u001b[38;5;124;43mencoding\u001b[39;49m\u001b[38;5;124;43m\"\u001b[39;49m\u001b[43m,\u001b[49m\u001b[43m \u001b[49m\u001b[38;5;28;43;01mNone\u001b[39;49;00m\u001b[43m)\u001b[49m\u001b[43m,\u001b[49m\n\u001b[0;32m   1884\u001b[0m \u001b[43m    \u001b[49m\u001b[43mcompression\u001b[49m\u001b[38;5;241;43m=\u001b[39;49m\u001b[38;5;28;43mself\u001b[39;49m\u001b[38;5;241;43m.\u001b[39;49m\u001b[43moptions\u001b[49m\u001b[38;5;241;43m.\u001b[39;49m\u001b[43mget\u001b[49m\u001b[43m(\u001b[49m\u001b[38;5;124;43m\"\u001b[39;49m\u001b[38;5;124;43mcompression\u001b[39;49m\u001b[38;5;124;43m\"\u001b[39;49m\u001b[43m,\u001b[49m\u001b[43m \u001b[49m\u001b[38;5;28;43;01mNone\u001b[39;49;00m\u001b[43m)\u001b[49m\u001b[43m,\u001b[49m\n\u001b[0;32m   1885\u001b[0m \u001b[43m    \u001b[49m\u001b[43mmemory_map\u001b[49m\u001b[38;5;241;43m=\u001b[39;49m\u001b[38;5;28;43mself\u001b[39;49m\u001b[38;5;241;43m.\u001b[39;49m\u001b[43moptions\u001b[49m\u001b[38;5;241;43m.\u001b[39;49m\u001b[43mget\u001b[49m\u001b[43m(\u001b[49m\u001b[38;5;124;43m\"\u001b[39;49m\u001b[38;5;124;43mmemory_map\u001b[39;49m\u001b[38;5;124;43m\"\u001b[39;49m\u001b[43m,\u001b[49m\u001b[43m \u001b[49m\u001b[38;5;28;43;01mFalse\u001b[39;49;00m\u001b[43m)\u001b[49m\u001b[43m,\u001b[49m\n\u001b[0;32m   1886\u001b[0m \u001b[43m    \u001b[49m\u001b[43mis_text\u001b[49m\u001b[38;5;241;43m=\u001b[39;49m\u001b[43mis_text\u001b[49m\u001b[43m,\u001b[49m\n\u001b[0;32m   1887\u001b[0m \u001b[43m    \u001b[49m\u001b[43merrors\u001b[49m\u001b[38;5;241;43m=\u001b[39;49m\u001b[38;5;28;43mself\u001b[39;49m\u001b[38;5;241;43m.\u001b[39;49m\u001b[43moptions\u001b[49m\u001b[38;5;241;43m.\u001b[39;49m\u001b[43mget\u001b[49m\u001b[43m(\u001b[49m\u001b[38;5;124;43m\"\u001b[39;49m\u001b[38;5;124;43mencoding_errors\u001b[39;49m\u001b[38;5;124;43m\"\u001b[39;49m\u001b[43m,\u001b[49m\u001b[43m \u001b[49m\u001b[38;5;124;43m\"\u001b[39;49m\u001b[38;5;124;43mstrict\u001b[39;49m\u001b[38;5;124;43m\"\u001b[39;49m\u001b[43m)\u001b[49m\u001b[43m,\u001b[49m\n\u001b[0;32m   1888\u001b[0m \u001b[43m    \u001b[49m\u001b[43mstorage_options\u001b[49m\u001b[38;5;241;43m=\u001b[39;49m\u001b[38;5;28;43mself\u001b[39;49m\u001b[38;5;241;43m.\u001b[39;49m\u001b[43moptions\u001b[49m\u001b[38;5;241;43m.\u001b[39;49m\u001b[43mget\u001b[49m\u001b[43m(\u001b[49m\u001b[38;5;124;43m\"\u001b[39;49m\u001b[38;5;124;43mstorage_options\u001b[39;49m\u001b[38;5;124;43m\"\u001b[39;49m\u001b[43m,\u001b[49m\u001b[43m \u001b[49m\u001b[38;5;28;43;01mNone\u001b[39;49;00m\u001b[43m)\u001b[49m\u001b[43m,\u001b[49m\n\u001b[0;32m   1889\u001b[0m \u001b[43m\u001b[49m\u001b[43m)\u001b[49m\n\u001b[0;32m   1890\u001b[0m \u001b[38;5;28;01massert\u001b[39;00m \u001b[38;5;28mself\u001b[39m\u001b[38;5;241m.\u001b[39mhandles \u001b[38;5;129;01mis\u001b[39;00m \u001b[38;5;129;01mnot\u001b[39;00m \u001b[38;5;28;01mNone\u001b[39;00m\n\u001b[0;32m   1891\u001b[0m f \u001b[38;5;241m=\u001b[39m \u001b[38;5;28mself\u001b[39m\u001b[38;5;241m.\u001b[39mhandles\u001b[38;5;241m.\u001b[39mhandle\n",
      "File \u001b[1;32mc:\\Users\\mjmox\\anaconda3\\envs\\FormulaE\\Lib\\site-packages\\pandas\\io\\common.py:873\u001b[0m, in \u001b[0;36mget_handle\u001b[1;34m(path_or_buf, mode, encoding, compression, memory_map, is_text, errors, storage_options)\u001b[0m\n\u001b[0;32m    868\u001b[0m \u001b[38;5;28;01melif\u001b[39;00m \u001b[38;5;28misinstance\u001b[39m(handle, \u001b[38;5;28mstr\u001b[39m):\n\u001b[0;32m    869\u001b[0m     \u001b[38;5;66;03m# Check whether the filename is to be opened in binary mode.\u001b[39;00m\n\u001b[0;32m    870\u001b[0m     \u001b[38;5;66;03m# Binary mode does not support 'encoding' and 'newline'.\u001b[39;00m\n\u001b[0;32m    871\u001b[0m     \u001b[38;5;28;01mif\u001b[39;00m ioargs\u001b[38;5;241m.\u001b[39mencoding \u001b[38;5;129;01mand\u001b[39;00m \u001b[38;5;124m\"\u001b[39m\u001b[38;5;124mb\u001b[39m\u001b[38;5;124m\"\u001b[39m \u001b[38;5;129;01mnot\u001b[39;00m \u001b[38;5;129;01min\u001b[39;00m ioargs\u001b[38;5;241m.\u001b[39mmode:\n\u001b[0;32m    872\u001b[0m         \u001b[38;5;66;03m# Encoding\u001b[39;00m\n\u001b[1;32m--> 873\u001b[0m         handle \u001b[38;5;241m=\u001b[39m \u001b[38;5;28;43mopen\u001b[39;49m\u001b[43m(\u001b[49m\n\u001b[0;32m    874\u001b[0m \u001b[43m            \u001b[49m\u001b[43mhandle\u001b[49m\u001b[43m,\u001b[49m\n\u001b[0;32m    875\u001b[0m \u001b[43m            \u001b[49m\u001b[43mioargs\u001b[49m\u001b[38;5;241;43m.\u001b[39;49m\u001b[43mmode\u001b[49m\u001b[43m,\u001b[49m\n\u001b[0;32m    876\u001b[0m \u001b[43m            \u001b[49m\u001b[43mencoding\u001b[49m\u001b[38;5;241;43m=\u001b[39;49m\u001b[43mioargs\u001b[49m\u001b[38;5;241;43m.\u001b[39;49m\u001b[43mencoding\u001b[49m\u001b[43m,\u001b[49m\n\u001b[0;32m    877\u001b[0m \u001b[43m            \u001b[49m\u001b[43merrors\u001b[49m\u001b[38;5;241;43m=\u001b[39;49m\u001b[43merrors\u001b[49m\u001b[43m,\u001b[49m\n\u001b[0;32m    878\u001b[0m \u001b[43m            \u001b[49m\u001b[43mnewline\u001b[49m\u001b[38;5;241;43m=\u001b[39;49m\u001b[38;5;124;43m\"\u001b[39;49m\u001b[38;5;124;43m\"\u001b[39;49m\u001b[43m,\u001b[49m\n\u001b[0;32m    879\u001b[0m \u001b[43m        \u001b[49m\u001b[43m)\u001b[49m\n\u001b[0;32m    880\u001b[0m     \u001b[38;5;28;01melse\u001b[39;00m:\n\u001b[0;32m    881\u001b[0m         \u001b[38;5;66;03m# Binary mode\u001b[39;00m\n\u001b[0;32m    882\u001b[0m         handle \u001b[38;5;241m=\u001b[39m \u001b[38;5;28mopen\u001b[39m(handle, ioargs\u001b[38;5;241m.\u001b[39mmode)\n",
      "\u001b[1;31mFileNotFoundError\u001b[0m: [Errno 2] No such file or directory: 'emrax_efficiency_data.csv'"
     ]
    }
   ],
   "source": [
    "import pandas as pd\n",
    "\n",
    "infile = \"emrax_efficiency_data.csv\"\n",
    "eff_df = pd.read_csv(infile)\n",
    "print(eff_df)\n",
    "\n",
    "# Functions as lookup table"
   ]
  },
  {
   "cell_type": "markdown",
   "metadata": {},
   "source": [
    "Output data for simulation - sent to json file"
   ]
  },
  {
   "cell_type": "code",
   "execution_count": null,
   "metadata": {},
   "outputs": [],
   "source": [
    "import json\n",
    "\n",
    "peak = peak.tolist()\n",
    "cont = cont.tolist()\n",
    "eff_df = eff_df.to_dict()\n",
    "\n",
    "# Dictionary\n",
    "outDict = {'lambda_pm': pm, 'PeakTorqueSpeed': peak, 'ContTorqueSpeed': cont,'Motor Efficiency': eff_df}\n",
    "\n",
    "# Export as .json\n",
    "outfile = \"emrax_data.json\"\n",
    "with open(outfile, 'w') as export:\n",
    "    export.write(json.dumps(outDict))"
   ]
  },
  {
   "cell_type": "markdown",
   "metadata": {},
   "source": [
    "AMK Motor Data\n",
    "\n",
    "Step 1: Torque-Speed Curve Data\n",
    "* This is the MAXIMUM TORQUE per SPEED for both continuous and peak conditions"
   ]
  },
  {
   "cell_type": "code",
   "execution_count": 1,
   "metadata": {},
   "outputs": [],
   "source": [
    "import pandas as pd\n",
    "\n",
    "cols = ['Speed','Torque']\n",
    "\n",
    "infile1 = \"AMK_Peak_Torque_Speed.csv\"\n",
    "AMK_peak_df = pd.read_csv(infile1)\n",
    "\n",
    "infile2 = \"AMK_Cont_Torque_Speed.csv\"\n",
    "AMK_cont_df = pd.read_csv(infile2)"
   ]
  },
  {
   "cell_type": "markdown",
   "metadata": {},
   "source": [
    "Step 2: Torque-Speed AND Current\n",
    "* A more detailed plot from AMK for motor torque based on speed and current\n",
    "* Conditions from AMK include: Current is varied from 0 to 105 A in steps of 5.25 A\n",
    "* Motor rpm is varied from 0 to 20,000 rpm in steps of 100 rpm\n",
    "\n",
    "So the concept here is:\n",
    "* Initially, we start with peak torque (or continuous torque) - then we decrease the torque or speed or whatever based on current-limiting requirements"
   ]
  },
  {
   "cell_type": "code",
   "execution_count": 5,
   "metadata": {},
   "outputs": [
    {
     "data": {
      "text/plain": [
       "1.317697268"
      ]
     },
     "execution_count": 5,
     "metadata": {},
     "output_type": "execute_result"
    }
   ],
   "source": [
    "import numpy as np\n",
    "\n",
    "infile = \"AMK_ShaftTorque.csv\"\n",
    "step = 5.25\n",
    "col_names = np.arange(0,105+step, step)\n",
    "\n",
    "step = 100\n",
    "row_names = np.arange(0,20000+step,step)\n",
    "\n",
    "torque_matrix = pd.read_csv(infile, names=col_names)\n",
    "torque_matrix = torque_matrix.dropna(axis=0)\n",
    "\n",
    "torque_matrix.insert(0, \"Speeds\", row_names)\n",
    "torque_matrix.set_index('Speeds', inplace = True)"
   ]
  },
  {
   "cell_type": "code",
   "execution_count": 10,
   "metadata": {},
   "outputs": [],
   "source": [
    "# Now test using this as a lookup table\n",
    "# We have two options:\n",
    "# 1 - Use the extra two vectors to determine the location of the information in the lookup table\n",
    "# 2 - Try to search through the header and the index\n",
    "\n",
    "# my combined solution will be transfering only the dataframe to the final code and then using these vectors to search\n",
    "colNames = list(torque_matrix.columns)\n",
    "rowNames = list(torque_matrix.index)\n",
    "\n",
    "# Function for finding a close match\n",
    "def findClosestMatch(vector, x):\n",
    "    # vector = vector # simplifying whatever form we were given as the vector\n",
    "\n",
    "    index = np.searchsorted(vector, x)\n",
    "    # based on the return value of searchsorted. We need to check THAT and the value below (with one edge case)\n",
    "    if index != 0:\n",
    "\n",
    "        if abs(x - vector[index]) > abs(x - vector[index - 1]):\n",
    "            index = index - 1\n",
    "    \n",
    "    return index\n",
    "\n",
    "current = 20    # A\n",
    "torque = 4     # Nm\n",
    "speed = 1200    # rpm\n",
    "\n",
    "# Practice finding the RPM based on a KNOWN CURRENT and KNOWN TORQUE\n",
    "current_index = findClosestMatch(colNames, current)\n",
    "t_index = findClosestMatch(torque_matrix.iloc[:,current_index].to_list(), torque)\n",
    "RPM_value = rowNames[t_index]     # return RPM value\n",
    "\n",
    "# Practice finding TORQUE based on a KNOWN RPM and KNOWN CURRENT\n",
    "current_index = findClosestMatch(colNames, current)\n",
    "RPM_index = findClosestMatch(rowNames, speed)\n",
    "Torque_value = torque_matrix.iloc[RPM_index, current_index]\n",
    "\n",
    "# Practice finding current based on a KNOWN RPM and KNOWN TORQUE\n",
    "RPM_index = findClosestMatch(rowNames, speed)\n",
    "t_index = findClosestMatch(torque_matrix.iloc[RPM_index, :].to_list(), torque)\n",
    "current_value = colNames[t_index]"
   ]
  },
  {
   "cell_type": "markdown",
   "metadata": {},
   "source": [
    "Step 3: Power Factor Data AND total loss Data"
   ]
  },
  {
   "cell_type": "code",
   "execution_count": 11,
   "metadata": {},
   "outputs": [],
   "source": [
    "# Total loss data\n",
    "infile = \"AMK_TotalLosses.csv\"\n",
    "loss_matrix = pd.read_csv(infile, names = col_names)\n",
    "loss_matrix = loss_matrix.dropna(axis=0)\n",
    "\n",
    "loss_matrix.insert(0, \"Speeds\", row_names)\n",
    "loss_matrix.set_index('Speeds', inplace = True)\n",
    "\n",
    "# Power Factor Data\n",
    "infile = \"AMK_PowerFactor.csv\"\n",
    "pf_matrix = pd.read_csv(infile, names = col_names)\n",
    "pf_matrix = pf_matrix.dropna(axis=0)\n",
    "\n",
    "pf_matrix.insert(0, \"Speeds\", row_names)\n",
    "pf_matrix.set_index('Speeds', inplace = True)\n",
    "\n",
    "# This could also be expanded to Temperature, etc.\n",
    "# Add Voltage_Line_RMS\n",
    "infile = \"AMK_Voltage_Line_RMS.csv\"\n",
    "voltage_matrix = pd.read_csv(infile, names = col_names)\n",
    "voltage_matrix = voltage_matrix.dropna(axis=0)\n",
    "\n",
    "voltage_matrix.insert(0, \"Speeds\", row_names)\n",
    "voltage_matrix.set_index(\"Speeds\", inplace=True)\n",
    "\n",
    "# Add Motor Power\n",
    "infile = \"AMK_Motor_Power.csv\"\n",
    "power_matrix = pd.read_csv(infile, names = col_names)\n",
    "power_matrix = power_matrix.dropna(axis=0)\n",
    "\n",
    "power_matrix.insert(0, \"Speeds\", row_names)\n",
    "power_matrix.set_index(\"Speeds\", inplace=True)"
   ]
  },
  {
   "cell_type": "markdown",
   "metadata": {},
   "source": [
    "Export Data as JSON file"
   ]
  },
  {
   "cell_type": "code",
   "execution_count": 12,
   "metadata": {},
   "outputs": [],
   "source": [
    "import json\n",
    "\n",
    "torque_matrix = torque_matrix.to_dict()\n",
    "pf_matrix = pf_matrix.to_dict()\n",
    "loss_matrix = loss_matrix.to_dict()\n",
    "voltage_matrix = voltage_matrix.to_dict()\n",
    "power_matrix = power_matrix.to_dict()\n",
    "AMK_peak_df = AMK_peak_df.to_dict()\n",
    "AMK_cont_df = AMK_cont_df.to_dict()\n",
    "\n",
    "# Combine data into a dictionary\n",
    "outDict = {'ShaftTorque': torque_matrix, 'PowerFactor': pf_matrix, 'TotalLosses': loss_matrix, 'LineVoltageRMS': voltage_matrix, 'MotorPower': power_matrix, 'PeakTorqueSpeed': AMK_peak_df, \"ContTorqueSpeed\": AMK_cont_df}\n",
    "\n",
    "# Export as .json\n",
    "outfile = \"AMK_data.json\"\n",
    "with open(outfile, 'w') as export:\n",
    "    export.write(json.dumps(outDict))"
   ]
  },
  {
   "cell_type": "code",
   "execution_count": 13,
   "metadata": {},
   "outputs": [],
   "source": [
    "import numpy as np\n",
    "\n",
    "like = np.array([1, 2, 3])\n",
    "\n",
    "a1 = np.array([1, 2, 3, 4, 5])\n",
    "a2 = np.array([1, 2])\n",
    "a3 = np.array([1, 2, 3, 4])\n",
    "\n",
    "# atotal = np.empty_like(like)\n",
    "\n",
    "# atotal[0] = a1\n",
    "# atotal[1] = a2\n",
    "# atotal[2] = a3\n",
    "\n",
    "# ARRAY UNSUCCESSFUL\n",
    "\n",
    "# Check dict\n",
    "dtotal = dict({'a1': a1, 'a2': a2, 'a3': a3})\n",
    "keylist = list(dtotal.keys())\n",
    "\n",
    "# This will work and I will use the key list to iterate through the dict\n",
    "\n",
    "\n",
    "# Can we put a dataframe into a dict?\n",
    "# Import pandas library\n",
    "import pandas as pd\n",
    "\n",
    "# initialize list of lists\n",
    "data = [['tom', 10], ['nick', 15], ['juli', 14]]\n",
    "\n",
    "# Create the pandas DataFrame\n",
    "df = pd.DataFrame(data, columns=['Name', 'Age'])\n",
    "\n",
    "dtotal['a1'] = df # answer is yes!"
   ]
  },
  {
   "cell_type": "markdown",
   "metadata": {},
   "source": [
    "### P28A Battery SoC Curve Data\n",
    "Using https://plotdigitizer.com/app again to generate a .csv file of the plots!\n",
    "\n",
    "Some notes for myself:\n",
    "1) This is given in \"depth of discharge\" - so the amount of capacity decrease. I could also just change the x-axis to make it the opposite... I think I'll do that.\n",
    "2) To make it so that I don't have to make as many points on the curves - I will interpolate between the points when I make the calculations.\n",
    "3) I will just jump to the closest curve (findClosestMatch) when choosing which to use\n",
    "\n",
    "I accidentially recorded the curves in this order: red, blue, green\n",
    "\n",
    "**Post Data Cleaning:**\n",
    "1) The different C-rates will not have the same number of datapoints, so these will need to be in separate dictionaries or dataframes.\n",
    "2) Capacity data must follow a downdward trend.\n",
    "3) Capacity is in units of mAh.\n",
    "4) Voltage is in units of V.\n",
    "5) Will initially start with multiindexing to cleanly evaluate data. Then I will split them into their own categories."
   ]
  },
  {
   "cell_type": "markdown",
   "metadata": {},
   "source": [
    "#### Battery Charging Capacity vs Voltage Data\n",
    "Curves given for voltage vs time AND capacity vs time.\n",
    "\n",
    "Using interpolation and a constant time vector, create a vector which matches capacity values to voltage values at each point in time.\n",
    "\n",
    "Curves are given for two voltages: 2.8 A and 5.6 A - so we'll just have to approximate to those. Label them as -2.8 and -5.6 and then we'll have to add them to the SoC lookup table -- and the SoC data from the section above.\n",
    "\n",
    "Before interpolating, I had to make sure that the min x-value was 0 and the max x-value was 1.5 for both .csv files."
   ]
  },
  {
   "cell_type": "code",
   "execution_count": 1,
   "metadata": {},
   "outputs": [],
   "source": [
    "import pandas as pd\n",
    "import numpy as np\n",
    "import scipy\n",
    "\n",
    "single_cell_max_capacity = 2.8      # Ah\n",
    "max_cell_voltage = 4.2\n",
    "\n",
    "voltagefile = \"charge_voltage.csv\"\n",
    "capacityfile = \"charge_capacity.csv\"\n",
    "\n",
    "voltage_df = pd.read_csv(voltagefile, header = [0,1])\n",
    "capacity_df = pd.read_csv(capacityfile, header = [0,1])\n",
    "\n",
    "# Set up data for cleaning:\n",
    "v_level_0 = list(voltage_df.columns.get_level_values(0))\n",
    "v_level_1 = list(voltage_df.columns.get_level_values(1))\n",
    "c_level_0 = list(capacity_df.columns.get_level_values(0))\n",
    "c_level_1 = list(capacity_df.columns.get_level_values(1))\n",
    "\n",
    "# For each curve - check to make sure that no values are smaller than the ones before\n",
    "for i in range(0, len(c_level_0), 2):\n",
    "    # Check continuity\n",
    "    for j in range(1, len(capacity_df)):\n",
    "        # Correct for max capacity\n",
    "        if capacity_df.loc[j, (c_level_0[i], c_level_1[i+1])] > 100:\n",
    "            capacity_df.loc[j, (c_level_0[i], c_level_1[i+1])] = 100\n",
    "\n",
    "        # Checking shows that there are no order issues\n",
    "        if capacity_df.loc[j - 1, (c_level_0[i],c_level_1[i])] > capacity_df.loc[j, (c_level_0[i],c_level_1[i])]:\n",
    "            print(\"Continuity Issue in Column %s %s and Row %d\" % (c_level_0[i], c_level_1[i], j))\n",
    "\n",
    "    for j in range(1, len(voltage_df)):\n",
    "        # Correct for max cell voltage\n",
    "        if voltage_df.loc[j, (v_level_0[i], v_level_1[i+1])] > max_cell_voltage:\n",
    "            voltage_df.loc[j, (v_level_0[i], v_level_1[i+1])] = max_cell_voltage\n",
    "\n",
    "        # Checking shows that there are no order issues\n",
    "        if voltage_df.loc[j - 1, (v_level_0[i],v_level_1[i])] > voltage_df.loc[j, (v_level_0[i],v_level_1[i])]:\n",
    "            print(\"Continuity Issue in Column %s %s and Row %d\" % (v_level_0[i], v_level_1[i], j))  \n",
    "\n",
    "    # Change capacity data so that it calculates ACTUAL capacity instead of SoC\n",
    "    capacity_df.loc[:, (c_level_0[i], c_level_1[i+1])] = capacity_df.loc[:, (c_level_0[i], c_level_1[i+1])] / 100 * single_cell_max_capacity\n",
    "\n",
    "#######\n",
    "# create vector of time values\n",
    "time_vector = np.linspace(0, 1.5, 100)\n",
    "\n",
    "# list of outputs\n",
    "charge_list = []\n",
    "\n",
    "# Using interpolation, create corresponding functions for both files\n",
    "# Create output vectors based on the time vector\n",
    "for i in range(0, len(c_level_0), 2):\n",
    "    # Voltage\n",
    "    v_fxn = scipy.interpolate.interp1d(voltage_df.loc[:, (v_level_0[i], v_level_1[i])], voltage_df.loc[:, (v_level_0[i], v_level_1[i+1])])\n",
    "    v_vector = v_fxn(time_vector)\n",
    "\n",
    "    # Capacity\n",
    "    c_fxn = scipy.interpolate.interp1d(capacity_df.loc[:, (c_level_0[i], c_level_1[i])], capacity_df.loc[:, (c_level_0[i], c_level_1[i+1])])\n",
    "    c_vector = c_fxn(time_vector)\n",
    "\n",
    "    # Zip data and then add to dataframe\n",
    "    data = list(zip(c_vector, v_vector))\n",
    "\n",
    "    charge_list.append(data)"
   ]
  },
  {
   "cell_type": "code",
   "execution_count": 2,
   "metadata": {},
   "outputs": [],
   "source": [
    "import pandas as pd\n",
    "import numpy as np\n",
    "import pickle\n",
    "\n",
    "infile = \"P28A_SoC_curve_initial.csv\"\n",
    "\n",
    "SoC_df = pd.read_csv(infile, header = [0,1])\n",
    "\n",
    "# Clean data\n",
    "# DONE 1) Ensure that first datapoint is at 4.2 V and 2800 mAh (changed manually)\n",
    "# 2) Make sure that all capacity and voltage values are consistently decreasing\n",
    "# 3) Switch all mAh values to Ah\n",
    "# 4) Split data into nested dictionary\n",
    "\n",
    "# Set up data for cleaning\n",
    "level_0 = list(SoC_df.columns.get_level_values(0))\n",
    "level_1 = list(SoC_df.columns.get_level_values(1))\n",
    "\n",
    "# For each capacity curve - switch units to Ah\n",
    "# For each capacity curve - check to make sure that no values are smaller than the ones before\n",
    "for i in range(0, len(level_0), 2):\n",
    "    # Check continuity\n",
    "    for j in range(1, len(SoC_df)):\n",
    "        if SoC_df.loc[j - 1, (level_0[i],level_1[i])] < SoC_df.loc[j, (level_0[i],level_1[i])]:\n",
    "            print(\"Continuity Issue in Column %s %s and Row %d\" % (level_0[i], level_1[i], j))  # Checking shows that there are no continuity issues\n",
    "\n",
    "    # Afterwards, convert to Ah\n",
    "    SoC_df.loc[:, (level_0[i],level_1[i])] = SoC_df.loc[:, (level_0[i],level_1[i])] / 1000  # convert mAh to Ah\n",
    "\n",
    "# Now we can move forward and transfer to nested dictionaries\n",
    "# !!! Add the charging data !!!\n",
    "SoC_dict = {'Current_-5.6A': None, 'Current_-2.8A': None, level_0[0]: None, level_0[2]: None, level_0[4]: None, level_0[6]: None} # Setting up first nested level\n",
    "\n",
    "# Input the charging data\n",
    "SoC_dict[\"Current_-2.8A\"] = np.array(charge_list[0])\n",
    "SoC_dict[\"Current_-5.6A\"] = np.array(charge_list[1])\n",
    "\n",
    "# Now go through df and transfer to dict\n",
    "for i in range(0, len(level_0), 2):\n",
    "    input = SoC_df[level_0[i]].dropna()\n",
    "    SoC_dict[level_0[i]] = input.to_numpy()\n",
    "\n",
    "# Now save to pickle file\n",
    "outfile = \"P28_SoC_curve.pkl\"\n",
    "with open(outfile, \"wb\") as file:\n",
    "    pickle.dump(SoC_dict, file)"
   ]
  },
  {
   "cell_type": "markdown",
   "metadata": {},
   "source": [
    "Just checking to make sure that the voltage/capacity curves look reasonable..."
   ]
  },
  {
   "cell_type": "code",
   "execution_count": 3,
   "metadata": {},
   "outputs": [
    {
     "data": {
      "image/png": "[encoded data removed]",
      "text/plain": [
       "<Figure size 640x480 with 1 Axes>"
      ]
     },
     "metadata": {},
     "output_type": "display_data"
    }
   ],
   "source": [
    "import matplotlib.pyplot as plt\n",
    "\n",
    "for label in list(SoC_dict.keys()):\n",
    "    plt.plot(SoC_dict[label][:,0], SoC_dict[label][:,1], label=label)\n",
    "\n",
    "plt.legend()\n",
    "plt.grid()\n",
    "plt.xlabel('Capacity (Ah)')\n",
    "plt.ylabel('Voltage (V)')\n",
    "plt.title(\"Voltage vs Capacity Curves for P28A Cells\")\n",
    "plt.savefig(\"Voltage_Capacity_Curves_For_P28A.png\")\n",
    "plt.show()"
   ]
  }
 ],
 "metadata": {
  "kernelspec": {
   "display_name": "Python 3",
   "language": "python",
   "name": "python3"
  },
  "language_info": {
   "codemirror_mode": {
    "name": "ipython",
    "version": 3
   },
   "file_extension": ".py",
   "mimetype": "text/x-python",
   "name": "python",
   "nbconvert_exporter": "python",
   "pygments_lexer": "ipython3",
   "version": "3.12.4"
  }
 },
 "nbformat": 4,
 "nbformat_minor": 2
}
