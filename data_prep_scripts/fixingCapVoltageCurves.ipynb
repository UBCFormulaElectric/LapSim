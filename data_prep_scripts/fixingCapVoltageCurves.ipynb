{
 "cells": [
  {
   "cell_type": "code",
   "execution_count": 3,
   "metadata": {},
   "outputs": [],
   "source": [
    "import pickle\n",
    "import pandas as pd\n",
    "import numpy as np\n",
    "\n",
    "SoCPath = \"../data_prep_scripts/P28_SoC_curve.pkl\"\n",
    "\n",
    "# Import SoC curve data\n",
    "with open(SoCPath, \"rb\") as file:\n",
    "    SoC_dict = pickle.load(file)\n",
    "\n",
    "# Create column lists\n",
    "SoC_currents = [-5.6, -2.8, 0.56, 2.8, 10, 20, 30]  # A\n",
    "SoC_col_level0 = list(SoC_dict.keys())  # Key names for top level of dict"
   ]
  },
  {
   "cell_type": "code",
   "execution_count": 4,
   "metadata": {},
   "outputs": [
    {
     "name": "stdout",
     "output_type": "stream",
     "text": [
      "min capacity = 0.000\n",
      "SoC: 0.000 %\n",
      "min capacity = 0.000\n",
      "SoC: 0.000 %\n",
      "min capacity = 0.000\n",
      "SoC: 0.000 %\n",
      "min capacity = 0.000\n",
      "SoC: 0.000 %\n",
      "min capacity = 0.000\n",
      "SoC: 0.000 %\n",
      "min capacity = 0.000\n",
      "SoC: 0.000 %\n",
      "min capacity = 0.000\n",
      "SoC: 0.000 %\n"
     ]
    }
   ],
   "source": [
    "for key in SoC_col_level0:\n",
    "    capacity = SoC_dict[key][:,0]\n",
    "    print(\"min capacity = %.3f\" % min(capacity))\n",
    "    print(\"SoC: %.3f %%\" % (min(capacity) / 2.8 * 100))"
   ]
  }
 ],
 "metadata": {
  "kernelspec": {
   "display_name": "FormulaE",
   "language": "python",
   "name": "python3"
  },
  "language_info": {
   "codemirror_mode": {
    "name": "ipython",
    "version": 3
   },
   "file_extension": ".py",
   "mimetype": "text/x-python",
   "name": "python",
   "nbconvert_exporter": "python",
   "pygments_lexer": "ipython3",
   "version": "3.12.4"
  }
 },
 "nbformat": 4,
 "nbformat_minor": 2
}
