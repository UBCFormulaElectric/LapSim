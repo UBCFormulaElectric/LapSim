{
 "cells": [
  {
   "cell_type": "markdown",
   "metadata": {},
   "source": [
    "# Mass Flow Rate for Batteries\n",
    "\n",
    "Mass flow rate is: $\\dot{m} = \\frac{\\dot{Q}}{C_p (T_{out} - T_{in})}$"
   ]
  },
  {
   "cell_type": "code",
   "execution_count": 2,
   "metadata": {},
   "outputs": [],
   "source": [
    "import numpy as np\n",
    "import pandas as pd\n",
    "import matplotlib.pyplot as plt"
   ]
  },
  {
   "cell_type": "code",
   "execution_count": 2,
   "metadata": {},
   "outputs": [
    {
     "name": "stdout",
     "output_type": "stream",
     "text": [
      "total_pack_heat_dissipation: 7000 W\n",
      "Average pack heat dissipation: 2926 W\n"
     ]
    }
   ],
   "source": [
    "single_bat_Qgen = 10        # W - maximum\n",
    "single_bat_Qgen_AVG = 4.18  # W - average\n",
    "parallel = 5\n",
    "series = 140\n",
    "total_pack_heat_dissipation = single_bat_Qgen * parallel * series\n",
    "avg_pack_heat_dissipation = single_bat_Qgen_AVG * parallel * series\n",
    "print(\"total_pack_heat_dissipation: %i W\" % total_pack_heat_dissipation)\n",
    "print(\"Average pack heat dissipation: %i W\" % avg_pack_heat_dissipation)"
   ]
  },
  {
   "cell_type": "markdown",
   "metadata": {},
   "source": [
    "The total heat dissipation is 8.4 kW, assuming that heat dissipation from each cell would reach a maximum of 10 W (which is actually a little lower than expected)\n",
    "\n",
    "The average heat dissipation is ~3 kW."
   ]
  },
  {
   "cell_type": "code",
   "execution_count": 3,
   "metadata": {},
   "outputs": [
    {
     "name": "stdout",
     "output_type": "stream",
     "text": [
      "mass flow rate: 0.350 kg/s\n",
      "Volumetric flow rate: 0.325 m^3/s\n"
     ]
    }
   ],
   "source": [
    "T_in = 35                                   # C - inlet temp for air, assume starting heat in Michigan\n",
    "T_out = 55                                  # C - outlet temp for air, highest operating temperature of the battery (with safety factor)\n",
    "Cp_air = 1000                               # J/kgC - specific heat of air\n",
    "rho_air = 1.076                             # kg/m3 - density of air at 55 C\n",
    "\n",
    "# Now calculate the mass flow rate\n",
    "m_dot = total_pack_heat_dissipation / (Cp_air * (T_out - T_in))\n",
    "print(\"mass flow rate: %.3f kg/s\" % m_dot)\n",
    "V_dot = m_dot / rho_air\n",
    "print(\"Volumetric flow rate: %.3f m^3/s\" % V_dot)"
   ]
  },
  {
   "cell_type": "markdown",
   "metadata": {},
   "source": [
    "What is the CFM for 15 m/s flow through our segment inlet area?"
   ]
  },
  {
   "cell_type": "code",
   "execution_count": 10,
   "metadata": {},
   "outputs": [
    {
     "name": "stdout",
     "output_type": "stream",
     "text": [
      "Flow rate in CFM: 52.704 ft3/min or 1.492 m3/min\n",
      "New Inlet Velocity for Simulation: 10.052 m/s or 35.320 CFM\n"
     ]
    }
   ],
   "source": [
    "# Conversion from m/s to m3/s and CFM\n",
    "m3min_to_CFM = 3.281**3                 # Conversion factor from m3/min to CFM\n",
    "m3s_to_CFM = 3.281**3 * 60              # Conversion factor from m3/s to CFM\n",
    "end_area = 1658 / 1000**2               # m^2 - area updated Oct 9, 2024\n",
    "inlet_v = 15                            # m/s\n",
    "inlet_flow = inlet_v * end_area         # m3/s\n",
    "inlet_CFM = inlet_flow * m3s_to_CFM     # ft3/min\n",
    "print(\"Flow rate in CFM: %.3f ft3/min or %.3f m3/min\" % (inlet_CFM,(inlet_flow*60)))\n",
    "\n",
    "# Determine the required velocity for a input flow rate of 1 m3/min\n",
    "flowrate = 1                            # m3/min\n",
    "new_inlet_v = flowrate / end_area / 60  # m/s\n",
    "print(\"New Inlet Velocity for Simulation: %.3f m/s or %.3f CFM\" % (new_inlet_v, flowrate * m3min_to_CFM))"
   ]
  },
  {
   "cell_type": "markdown",
   "metadata": {},
   "source": [
    "Examples with possible fan curves\n",
    "\n",
    "Determining required inlet velocities ==> what is the inlet velocity (for CFD testing, if we have varying flow rates).\n",
    "\n",
    "For now, while I'm waiting for the CFD to finish, use 279 Pa * 2 = 558 Pa. Then adapt the reading after the simulation is complete."
   ]
  },
  {
   "cell_type": "code",
   "execution_count": 8,
   "metadata": {},
   "outputs": [],
   "source": [
    "pressure_drop_half_seg = 279                # Pa\n",
    "p_drop = pressure_drop_half_seg * 2         # Pa\n",
    "\n",
    "CFM_to_m3s = 3.281**3 / 60              # Conversion factor from CFM to m3/s\n",
    "# For this, there is a 15 m/s expected flow rate\n",
    "end_area = 1658 / 1000**2               # m^2 - area updated Oct 9, 2024\n",
    "\n",
    "# This will have a different input flow rate\n",
    "top_area = 1395 * 2 / 1000**2           # m^2 - area updated Oct 9, 2024\n",
    "\n",
    "# Now search for fan curves\n"
   ]
  }
 ],
 "metadata": {
  "kernelspec": {
   "display_name": "FormulaE",
   "language": "python",
   "name": "python3"
  },
  "language_info": {
   "codemirror_mode": {
    "name": "ipython",
    "version": 3
   },
   "file_extension": ".py",
   "mimetype": "text/x-python",
   "name": "python",
   "nbconvert_exporter": "python",
   "pygments_lexer": "ipython3",
   "version": "3.12.4"
  }
 },
 "nbformat": 4,
 "nbformat_minor": 2
}
