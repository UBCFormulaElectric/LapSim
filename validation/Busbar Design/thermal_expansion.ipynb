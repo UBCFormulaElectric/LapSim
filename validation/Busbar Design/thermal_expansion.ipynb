{
 "cells": [
  {
   "cell_type": "markdown",
   "metadata": {},
   "source": [
    "# Thermal Expansion and Aluminum Bussing\n",
    "\n",
    "Mallory Moxham // Nov 30, 2024\n",
    "\n",
    "Add Calculations for spring washers"
   ]
  },
  {
   "cell_type": "markdown",
   "metadata": {},
   "source": [
    "### Constants and Set-up Parameters"
   ]
  },
  {
   "cell_type": "code",
   "execution_count": 27,
   "metadata": {},
   "outputs": [],
   "source": [
    "import numpy as np\n",
    "import pandas as pd\n",
    "import math\n",
    "import matplotlib.pyplot as plt\n",
    "\n",
    "\n",
    "\n",
    "####### TEMPERATURE CONDITIONS\n",
    "T0 = 15                             # C - minimum expected temperature\n",
    "Tmax = 60                           # C - maximum acceptable and expected temperature\n",
    "dT_max = Tmax - T0                  # C - maximum delta T expected\n",
    "\n",
    "\n",
    "\n",
    "\n",
    "####### BOLTS\n",
    "# Create a bolt class\n",
    "class bolt_size:\n",
    "    # Class variables\n",
    "    E = 200 * 10**3             # N/mm2 - bolt young's modulus\n",
    "    Sp = 600                    # N/mm2 - Class 8.8 Bolt Proof Strength\n",
    "    wt = 1.5                    # mm - washer thickness\n",
    "    CTE = 12.3 * 10**(-6)       # C-1 - Linear CTE for Alloy Steel\n",
    "\n",
    "    # Class Item Definition\n",
    "    def __init__(self, d, md, w_OD, At):\n",
    "        self.d = d              # mm - major diameter\n",
    "        self.md = md            # mm - minor diameter\n",
    "        self.w_OD = w_OD        # mm - washer outer diameter\n",
    "        self.At = At            # mm2 - area in tension, Table 8-1 Shigley\n",
    "        self.Ax = math.pi / 4 * d**2    # mm2 - area based on major diameter\n",
    "\n",
    "# 1) M6\n",
    "M6_d = 6                        # mm - major diameter\n",
    "M6_md = 4.917                   # mm - minor diameter\n",
    "M6_w_OD = 12                    # mm - washer outer diameter\n",
    "M6_At = 20.1                    # mm2 - area in tension, Table 8-1 Shigley\n",
    "M6 = bolt_size(d = M6_d, md = M6_md, w_OD = M6_w_OD, At = M6_At)\n",
    "\n",
    "# 2) M8\n",
    "M8_d = 8                        # mm - major diameter\n",
    "M8_md = 6.647                   # mm - minor diameter\n",
    "M8_w_OD = 16                    # mm - washer outer diameter\n",
    "M8_At = 36.6                    # mm2 - area in tension, Table 8-1 Shigley\n",
    "M8 = bolt_size(d = M8_d, md = M8_md, w_OD = M8_w_OD, At = M8_At)\n",
    "\n",
    "# 3) M10 (for Sensata Contactors)\n",
    "M10_d = 10                      # mm - major diameter\n",
    "M10_md = 8.376                  # mm - minor diameter\n",
    "M10_w_OD = 20                   # mm - washer outer diameter\n",
    "M10_At = 58                     # mm2 - area in tension, Table 8-1 Shigley\n",
    "M10 = bolt_size(d = M10_d, md = M10_md, w_OD = M10_w_OD, At = M10_At)\n",
    "\n",
    "\n",
    "\n",
    "\n",
    "####### COPPER COMPONENTS\n",
    "Cu_CTE = 16.7 * 10**(-6)        # C-1 - Linear CTE for copper\n",
    "Cu_E = 110 * 10**3              # N/mm2 - Young's Modulus of copper\n",
    "\n",
    "# 1) Copper Lug - uses an M6 mating part\n",
    "lug_L0 = 2.02                   # mm - initial thickness\n",
    "lug_holeD = 7                   # mm - hole diameter on lug\n",
    "lug_Ax = math.pi / 4 * (M6.w_OD**2 - lug_holeD**2)  # mm2 - net area of lug\n",
    "\n",
    "# 2) E-meter Copper Parts\n",
    "EM_L0 = 8                       # mm - initial thickness\n",
    "EM_holeD = 8                    # mm - hole diameter (threaded for an M8)\n",
    "EM_Ax = math.pi / 4 * (M8.w_OD**2 - EM_holeD**2)    # mm2 - net area on EM\n",
    "\n",
    "\n",
    "\n",
    "\n",
    "####### ALUMINUM COMPONENTS\n",
    "Al_CTE = 23.6 * 10**(-6)        # C-1 - Linear CTE for Aluminum\n",
    "Al_E = 68.9 * 10**3             # N/mm2 - Young's modulus of Aluminum\n",
    "\n",
    "# 1) Aluminum busbar (normal)\n",
    "Al_bus_L0 = 1.59                # mm - initial thickness\n",
    "\n",
    "\n",
    "\n",
    "###### MEMBER STIFFNESS\n",
    "alpha = 30 * math.pi / 180      # radians - 30 degrees in radians\n"
   ]
  },
  {
   "cell_type": "markdown",
   "metadata": {},
   "source": [
    "(Will input a function for calculations at a later time, but first do this process for just ONE of the types!)\n",
    "\n",
    "### Force Generated with Temperature Rise and Fall"
   ]
  },
  {
   "cell_type": "code",
   "execution_count": 24,
   "metadata": {},
   "outputs": [],
   "source": [
    "def force_rise_fall(L0_Cu, Ax_Cu, bolt, L0_Al):\n",
    "    # CALCULATION FOR BOLT\n",
    "    L0_bolt = L0_Cu + L0_Al\n",
    "\n",
    "    # THERMAL EXPANSION COEFFS\n",
    "    Fcoeff_Cu = L0_Cu / (Ax_Cu * Cu_E)                      # mm/N\n",
    "    Fcoeff_Al = L0_Al / (Ax_Cu * Al_E)                      # mm/N\n",
    "    Fcoeff_bolt = L0_bolt / (bolt.Ax * bolt.E)                  # mm/N\n",
    "\n",
    "    Tcoeff_Cu = L0_Cu * Cu_CTE * dT_max                     # mm\n",
    "    Tcoeff_Al = L0_Al * Al_CTE * dT_max                     # mm\n",
    "    Tcoeff_bolt = L0_bolt * bolt.CTE * dT_max                 # mm\n",
    "\n",
    "    # TEMP RISE AND FALL CALCS\n",
    "    Fcoeff_total = Fcoeff_Cu + Fcoeff_Al + Fcoeff_bolt      # the same for both rise and fall\n",
    "    Tcoeff_temp = Tcoeff_Cu + Tcoeff_Al - Tcoeff_bolt       # temporary T coefficient\n",
    "    Tcoeff_total = np.array([Tcoeff_temp, -Tcoeff_temp])    # entries for RISE (+), FALL (-) respectively\n",
    "\n",
    "    F_result = Tcoeff_total / Fcoeff_total                  # N - resulting force\n",
    "\n",
    "    print(\"Fcoeffs:\",Fcoeff_Cu, Fcoeff_Al, Fcoeff_bolt)\n",
    "    print(\"Tcoeffs:\",Tcoeff_Cu, Tcoeff_Al, Tcoeff_bolt)\n",
    "    print(\"Final Forces [N] (Rise, Fall):\", F_result[0], F_result[1])\n",
    "\n",
    "    return F_result"
   ]
  },
  {
   "cell_type": "markdown",
   "metadata": {},
   "source": [
    "For lug/Al stackup:"
   ]
  },
  {
   "cell_type": "code",
   "execution_count": 25,
   "metadata": {},
   "outputs": [
    {
     "name": "stdout",
     "output_type": "stream",
     "text": [
      "Fcoeffs: 2.4611903161387836e-07 3.092889582352622e-07 6.383881606241581e-07\n",
      "Tcoeffs: 0.00151803 0.00168858 0.0019981350000000003\n",
      "Final Forces [N] (Rise, Fall): 1012.2959430895147 -1012.2959430895147\n"
     ]
    }
   ],
   "source": [
    "F_lugs = force_rise_fall(lug_L0, lug_Ax, M6, Al_bus_L0)"
   ]
  },
  {
   "cell_type": "markdown",
   "metadata": {},
   "source": [
    "For EM/Al stackup:"
   ]
  },
  {
   "cell_type": "code",
   "execution_count": 26,
   "metadata": {},
   "outputs": [
    {
     "name": "stdout",
     "output_type": "stream",
     "text": [
      "Fcoeffs: 4.822877063390768e-07 1.5303359912682245e-07 9.539349401570477e-07\n",
      "Tcoeffs: 0.006012 0.00168858 0.005308065000000001\n",
      "Final Forces [N] (Rise, Fall): 1505.4306104439415 -1505.4306104439415\n"
     ]
    }
   ],
   "source": [
    "F_EM = force_rise_fall(EM_L0, EM_Ax, M8, Al_bus_L0)"
   ]
  },
  {
   "cell_type": "markdown",
   "metadata": {},
   "source": [
    "### Member Stiffness"
   ]
  },
  {
   "cell_type": "code",
   "execution_count": 38,
   "metadata": {},
   "outputs": [],
   "source": [
    "def member_stiffness(L0_Cu, Ax_Cu, bolt, L0_Al):\n",
    "    ##### START FXN HERE\n",
    "    total_t = L0_Cu + L0_Al + bolt.wt       # mm - total thickness\n",
    "    half_t = total_t / 2                    # mm - half-way thickness\n",
    "\n",
    "    # Note that this assumes that the washer is on the same side as the aluminum\n",
    "    Al_test = half_t - bolt.wt - L0_Al\n",
    "    if Al_test < 0:     # if Al thickness extends past half way\n",
    "        top_half_Al = half_t - bolt.wt\n",
    "        bot_half_Al = L0_Al - top_half_Al\n",
    "        bot_half_Cu = L0_Cu\n",
    "        top_half_Cu = 0\n",
    "    else:               # if it doesn't\n",
    "        top_half_Al = L0_Al\n",
    "        bot_half_Al = 0\n",
    "        bot_half_Cu = half_t\n",
    "        top_half_Cu = L0_Cu - half_t\n",
    "\n",
    "    thicknesses = np.array([top_half_Al, bot_half_Al, bot_half_Cu, top_half_Cu])    # mm - relative thickness in the member stiffness calcn\n",
    "    index = np.where(thicknesses == 0)\n",
    "    thicknesses = np.delete(thicknesses, index)\n",
    "    E_modulus = np.delete(np.array([Al_E, Al_E, Cu_E, Cu_E]), index)\n",
    "\n",
    "    # Pseudo washer diameter calc\n",
    "    thinner_mat = min((bolt.wt + L0_Al), L0_Cu)                 # mm - thinner material\n",
    "    pseudo_wd = bolt.w_OD + 2 * thinner_mat * math.tan(alpha)   # mm - pseudo washer diameter?\n",
    "\n",
    "    # Calculations for member stiffness\n",
    "    P = math.pi * E_modulus * bolt.d * math.tan(alpha)                                              # N/mm - temp value\n",
    "    delta_num = (2 * thicknesses * math.tan(alpha) + bolt.w_OD - bolt.d) * (bolt.w_OD + bolt.d)     # temp value\n",
    "    delta_denom = (2 * thicknesses * math.tan(alpha) + bolt.w_OD + bolt.d) * (bolt.w_OD - bolt.d)   # temp value\n",
    "    k = P / np.log(delta_num / delta_denom)                                                         # N/mm - member stiffnesses\n",
    "\n",
    "    combined_stiffness = (np.sum(1 / k))**(-1)  # N/mm - total member stiffness - summed as series springs\n",
    "\n",
    "    return combined_stiffness"
   ]
  },
  {
   "cell_type": "markdown",
   "metadata": {},
   "source": [
    "For Lug:\n",
    "\n",
    "*# Set up parameters that will eventually be used in a function:\n",
    "L0_Cu = lug_L0\n",
    "Ax_Cu = lug_Ax\n",
    "bolt = M6\n",
    "L0_Al = Al_bus_L0"
   ]
  },
  {
   "cell_type": "code",
   "execution_count": 39,
   "metadata": {},
   "outputs": [
    {
     "data": {
      "text/plain": [
       "2395658.42164211"
      ]
     },
     "execution_count": 39,
     "metadata": {},
     "output_type": "execute_result"
    }
   ],
   "source": [
    "k_mem_lug = member_stiffness(lug_L0, lug_Ax, M6, Al_bus_L0)\n",
    "k_mem_lug"
   ]
  },
  {
   "cell_type": "markdown",
   "metadata": {},
   "source": [
    "For EM:"
   ]
  },
  {
   "cell_type": "code",
   "execution_count": 40,
   "metadata": {},
   "outputs": [
    {
     "data": {
      "text/plain": [
       "2113149.487915191"
      ]
     },
     "execution_count": 40,
     "metadata": {},
     "output_type": "execute_result"
    }
   ],
   "source": [
    "k_mem_EM = member_stiffness(EM_L0, EM_Ax, M8, Al_bus_L0)\n",
    "k_mem_EM"
   ]
  }
 ],
 "metadata": {
  "kernelspec": {
   "display_name": "FormulaE",
   "language": "python",
   "name": "python3"
  },
  "language_info": {
   "codemirror_mode": {
    "name": "ipython",
    "version": 3
   },
   "file_extension": ".py",
   "mimetype": "text/x-python",
   "name": "python",
   "nbconvert_exporter": "python",
   "pygments_lexer": "ipython3",
   "version": "3.12.4"
  }
 },
 "nbformat": 4,
 "nbformat_minor": 2
}
