{
 "cells": [
  {
   "cell_type": "markdown",
   "metadata": {},
   "source": [
    "TABLE OF CONTENTS:\n",
    "\n",
    "1) Prep Data for Emrax 188 Motors\n",
    "\n",
    "2) Prep Data for AMK Motors\n",
    "\n",
    "3) Prep Battery Data\n",
    "\n",
    "Plot 1: Torque vs Irms\n",
    "\n",
    "Purpose: To determine the flux linkage of the permanent magnet in the motor"
   ]
  },
  {
   "cell_type": "code",
   "execution_count": 22,
   "metadata": {},
   "outputs": [
    {
     "name": "stdout",
     "output_type": "stream",
     "text": [
      "0.026933333333333333\n"
     ]
    }
   ],
   "source": [
    "import numpy as np\n",
    "\n",
    "pairs = [(50, 30), (100, 53), (150,75), (200, 90)]\n",
    "\n",
    "TI_array = np.array(pairs)\n",
    "\n",
    "# Now fit a slope to this line\n",
    "# Matrix for linear regression\n",
    "G = np.array([np.ones(len(TI_array[:,0])), TI_array[:,0]])\n",
    "\n",
    "G = np.transpose(G)\n",
    "\n",
    "# y-values for linear regression\n",
    "y = TI_array[:,1]\n",
    "\n",
    "# Model output\n",
    "coeffs = np.linalg.lstsq(G, y, rcond=None)[0]\n",
    "\n",
    "# Determine PM flux linkage\n",
    "pm = coeffs[1] / (3/2*10)\n",
    "print(pm)"
   ]
  },
  {
   "cell_type": "markdown",
   "metadata": {},
   "source": [
    "Plot 2: Motor Torque vs Speed\n",
    "\n",
    "Version 1 - Peak Torque\n",
    "\n",
    "Version 2 - Continuous Torque"
   ]
  },
  {
   "cell_type": "code",
   "execution_count": 23,
   "metadata": {},
   "outputs": [
    {
     "name": "stdout",
     "output_type": "stream",
     "text": [
      "[[   0.           90.        ]\n",
      " [  10.1010101    90.        ]\n",
      " [  20.2020202    90.        ]\n",
      " ...\n",
      " [6979.7979798    80.1010101 ]\n",
      " [6989.8989899    80.05050505]\n",
      " [7000.           80.        ]]\n"
     ]
    }
   ],
   "source": [
    "pairs_peak = [(0, 90), (1000, 90), (2000, 90), (3000, 90), (4000, 87), (5000, 85), (6000, 85), (7000, 80)]\n",
    "pairs_cont = [(0, 45), (1000, 47), (2000, 52), (3000, 52), (4000, 52), (5000, 52), (6000, 50), (7000, 45)]\n",
    "\n",
    "peak_arr = np.array(pairs_peak)\n",
    "cont_arr = np.array(pairs_cont)\n",
    "\n",
    "# initialize empty arrays - Fill each space with 100 points\n",
    "peak = np.empty([0, 2])\n",
    "cont = np.empty([0, 2])\n",
    "\n",
    "# number of intermediate values\n",
    "intermediateVals = 100\n",
    "\n",
    "# Then fill the spaces in between using interpolation:\n",
    "for i in range(0, len(pairs_peak) - 1):\n",
    "    new_peak = np.linspace(peak_arr[i],peak_arr[i+1], intermediateVals)\n",
    "    new_cont = np.linspace(cont_arr[i], cont_arr[i+1], intermediateVals)\n",
    "    peak = np.append(peak, new_peak, axis=0)\n",
    "    cont = np.append(cont, new_cont, axis=0)\n",
    "\n",
    "# Now print the full outputs - thinking at the moment this may be a problem because the arrays have two columns\n",
    "print(peak)\n",
    "\n",
    "# The outputs are of the following form: [rpm, torque]"
   ]
  },
  {
   "cell_type": "markdown",
   "metadata": {},
   "source": [
    "Plot 3: Efficiency Curve\n",
    "\n",
    "Process: converted online using https://plotdigitizer.com/app\n",
    "\n",
    "Determined efficiencies and sent to a .csv file\n",
    "\n",
    "Now: Unpack .csv and create lookup table for efficiencies"
   ]
  },
  {
   "cell_type": "code",
   "execution_count": 24,
   "metadata": {},
   "outputs": [
    {
     "name": "stdout",
     "output_type": "stream",
     "text": [
      "           Speed     Torque  Efficiency\n",
      "0     467.117659  19.573638        0.86\n",
      "1     413.030086  32.267442        0.86\n",
      "2     457.283309  44.864335        0.86\n",
      "3     565.458006  55.910847        0.86\n",
      "4     747.388074  67.441860        0.86\n",
      "..           ...        ...         ...\n",
      "102  2424.093842  47.383721        0.96\n",
      "103  2699.446632  39.728679        0.96\n",
      "104  2999.385747  34.302326        0.96\n",
      "105  3638.598675  30.329451        0.96\n",
      "106  4371.235675  32.170531        0.96\n",
      "\n",
      "[107 rows x 3 columns]\n"
     ]
    }
   ],
   "source": [
    "import pandas as pd\n",
    "\n",
    "infile = \"emrax_efficiency_data.csv\"\n",
    "eff_df = pd.read_csv(infile)\n",
    "print(eff_df)\n",
    "\n",
    "# Functions as lookup table"
   ]
  },
  {
   "cell_type": "markdown",
   "metadata": {},
   "source": [
    "Output data for simulation - sent to json file"
   ]
  },
  {
   "cell_type": "code",
   "execution_count": 25,
   "metadata": {},
   "outputs": [],
   "source": [
    "import json\n",
    "\n",
    "peak = peak.tolist()\n",
    "cont = cont.tolist()\n",
    "eff_df = eff_df.to_dict()\n",
    "\n",
    "# Dictionary\n",
    "outDict = {'lambda_pm': pm, 'PeakTorqueSpeed': peak, 'ContTorqueSpeed': cont,'Motor Efficiency': eff_df}\n",
    "\n",
    "# Export as .json\n",
    "outfile = \"emrax_data.json\"\n",
    "with open(outfile, 'w') as export:\n",
    "    export.write(json.dumps(outDict))"
   ]
  },
  {
   "cell_type": "markdown",
   "metadata": {},
   "source": [
    "AMK Motor Data\n",
    "\n",
    "Step 1: Torque-Speed Curve Data\n",
    "* This is the MAXIMUM TORQUE per SPEED for both continuous and peak conditions"
   ]
  },
  {
   "cell_type": "code",
   "execution_count": 26,
   "metadata": {},
   "outputs": [],
   "source": [
    "import pandas as pd\n",
    "\n",
    "infile1 = \"AMK_Peak_Torque_Speed.csv\"\n",
    "AMK_peak_df = pd.read_csv(infile1)\n",
    "\n",
    "infile2 = \"AMK_Cont_Torque_Speed.csv\"\n",
    "AMK_cont_df = pd.read_csv(infile2)"
   ]
  },
  {
   "cell_type": "markdown",
   "metadata": {},
   "source": [
    "Step 2: Torque-Speed AND Current\n",
    "* A more detailed plot from AMK for motor torque based on speed and current\n",
    "* Conditions from AMK include: Current is varied from 0 to 105 A in steps of 5.25 A\n",
    "* Motor rpm is varied from 0 to 20,000 rpm in steps of 100 rpm"
   ]
  },
  {
   "cell_type": "code",
   "execution_count": 27,
   "metadata": {},
   "outputs": [],
   "source": [
    "import numpy as np\n",
    "\n",
    "infile = \"AMK_ShaftTorque.csv\"\n",
    "step = 5.25\n",
    "col_names = np.arange(0,105+step, step)\n",
    "\n",
    "step = 100\n",
    "row_names = np.arange(0,20000+step,step)\n",
    "\n",
    "torque_matrix = pd.read_csv(infile, names=col_names)\n",
    "torque_matrix = torque_matrix.dropna(axis=0)\n",
    "\n",
    "torque_matrix.insert(0, \"Speeds\", row_names)\n",
    "torque_matrix.set_index('Speeds', inplace = True)"
   ]
  },
  {
   "cell_type": "code",
   "execution_count": 28,
   "metadata": {},
   "outputs": [],
   "source": [
    "# Now test using this as a lookup table\n",
    "# We have two options:\n",
    "# 1 - Use the extra two vectors to determine the location of the information in the lookup table\n",
    "# 2 - Try to search through the header and the index\n",
    "\n",
    "# my combined solution will be transfering only the dataframe to the final code and then using these vectors to search\n",
    "colNames = list(torque_matrix.columns)\n",
    "rowNames = list(torque_matrix.index)\n",
    "\n",
    "# Function for finding a close match\n",
    "def findClosestMatch(vector, x):\n",
    "    # vector = vector # simplifying whatever form we were given as the vector\n",
    "\n",
    "    index = np.searchsorted(vector, x)\n",
    "    # based on the return value of searchsorted. We need to check THAT and the value below (with one edge case)\n",
    "    if index != 0:\n",
    "\n",
    "        if abs(x - vector[index]) > abs(x - vector[index - 1]):\n",
    "            index = index - 1\n",
    "    \n",
    "    return index\n",
    "\n",
    "current = 20    # A\n",
    "torque = 4     # Nm\n",
    "speed = 1200    # rpm\n",
    "\n",
    "# Practice finding the RPM based on a KNOWN CURRENT and KNOWN TORQUE\n",
    "current_index = findClosestMatch(colNames, current)\n",
    "t_index = findClosestMatch(torque_matrix.iloc[:,current_index].to_list(), torque)\n",
    "RPM_value = rowNames[t_index]     # return RPM value\n",
    "\n",
    "# Practice finding TORQUE based on a KNOWN RPM and KNOWN CURRENT\n",
    "current_index = findClosestMatch(colNames, current)\n",
    "RPM_index = findClosestMatch(rowNames, speed)\n",
    "Torque_value = torque_matrix.iloc[RPM_index, current_index]\n",
    "\n",
    "# Practice finding current based on a KNOWN RPM and KNOWN TORQUE\n",
    "RPM_index = findClosestMatch(rowNames, speed)\n",
    "t_index = findClosestMatch(torque_matrix.iloc[RPM_index, :].to_list(), torque)\n",
    "current_value = colNames[t_index]"
   ]
  },
  {
   "cell_type": "markdown",
   "metadata": {},
   "source": [
    "Step 3: Power Factor Data AND total loss Data"
   ]
  },
  {
   "cell_type": "code",
   "execution_count": 29,
   "metadata": {},
   "outputs": [],
   "source": [
    "# Total loss data\n",
    "infile = \"AMK_TotalLosses.csv\"\n",
    "loss_matrix = pd.read_csv(infile, names = col_names)\n",
    "loss_matrix = loss_matrix.dropna(axis=0)\n",
    "\n",
    "loss_matrix.insert(0, \"Speeds\", row_names)\n",
    "loss_matrix.set_index('Speeds', inplace = True)\n",
    "\n",
    "# Power Factor Data\n",
    "infile = \"AMK_PowerFactor.csv\"\n",
    "pf_matrix = pd.read_csv(infile, names = col_names)\n",
    "pf_matrix = pf_matrix.dropna(axis=0)\n",
    "\n",
    "pf_matrix.insert(0, \"Speeds\", row_names)\n",
    "pf_matrix.set_index('Speeds', inplace = True)\n",
    "\n",
    "# This could also be expanded to Temperature, etc."
   ]
  },
  {
   "cell_type": "markdown",
   "metadata": {},
   "source": [
    "Export Data as JSON file"
   ]
  },
  {
   "cell_type": "code",
   "execution_count": 30,
   "metadata": {},
   "outputs": [],
   "source": [
    "import json\n",
    "\n",
    "torque_matrix = torque_matrix.to_dict()\n",
    "pf_matrix = pf_matrix.to_dict()\n",
    "loss_matrix = loss_matrix.to_dict()\n",
    "AMK_peak_df = AMK_peak_df.to_dict()\n",
    "AMK_cont_df = AMK_cont_df.to_dict()\n",
    "\n",
    "# Combine data into a dictionary\n",
    "outDict = {'ShaftTorque': torque_matrix, 'PowerFactor': pf_matrix, 'TotalLosses': loss_matrix, 'PeakTorqueSpeed': AMK_peak_df, \"ContTorqueSpeed\": AMK_cont_df}\n",
    "\n",
    "# Export as .json\n",
    "outfile = \"AMK_data.json\"\n",
    "with open(outfile, 'w') as export:\n",
    "    export.write(json.dumps(outDict))"
   ]
  },
  {
   "cell_type": "code",
   "execution_count": 5,
   "metadata": {},
   "outputs": [
    {
     "ename": "",
     "evalue": "",
     "output_type": "error",
     "traceback": [
      "\u001b[1;31mThe Kernel crashed while executing code in the current cell or a previous cell. \n",
      "\u001b[1;31mPlease review the code in the cell(s) to identify a possible cause of the failure. \n",
      "\u001b[1;31mClick <a href='https://aka.ms/vscodeJupyterKernelCrash'>here</a> for more info. \n",
      "\u001b[1;31mView Jupyter <a href='command:jupyter.viewOutput'>log</a> for further details."
     ]
    }
   ],
   "source": [
    "import numpy as np\n",
    "\n",
    "like = np.array([1, 2, 3])\n",
    "\n",
    "a1 = np.array([1, 2, 3, 4, 5])\n",
    "a2 = np.array([1, 2])\n",
    "a3 = np.array([1, 2, 3, 4])\n",
    "\n",
    "# atotal = np.empty_like(like)\n",
    "\n",
    "# atotal[0] = a1\n",
    "# atotal[1] = a2\n",
    "# atotal[2] = a3\n",
    "\n",
    "# ARRAY UNSUCCESSFUL\n",
    "\n",
    "# Check dict\n",
    "dtotal = dict({'a1': a1, 'a2': a2, 'a3': a3})\n",
    "keylist = list(dtotal.keys())\n",
    "\n",
    "# This will work and I will use the key list to iterate through the dict\n",
    "\n",
    "\n",
    "# Can we put a dataframe into a dict?\n",
    "# Import pandas library\n",
    "import pandas as pd\n",
    "\n",
    "# initialize list of lists\n",
    "data = [['tom', 10], ['nick', 15], ['juli', 14]]\n",
    "\n",
    "# Create the pandas DataFrame\n",
    "df = pd.DataFrame(data, columns=['Name', 'Age'])\n",
    "\n",
    "dtotal['a1'] = df # answer is yes!"
   ]
  }
 ],
 "metadata": {
  "kernelspec": {
   "display_name": "Python 3",
   "language": "python",
   "name": "python3"
  },
  "language_info": {
   "codemirror_mode": {
    "name": "ipython",
    "version": 3
   },
   "file_extension": ".py",
   "mimetype": "text/x-python",
   "name": "python",
   "nbconvert_exporter": "python",
   "pygments_lexer": "ipython3",
   "version": "3.11.9"
  }
 },
 "nbformat": 4,
 "nbformat_minor": 2
}
